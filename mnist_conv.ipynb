{
 "cells": [
  {
   "cell_type": "markdown",
   "metadata": {},
   "source": [
    "# uTensor End-to-End Workflow - Preview"
   ]
  },
  {
   "cell_type": "markdown",
   "metadata": {},
   "source": [
    "## Imports"
   ]
  },
  {
   "cell_type": "code",
   "execution_count": 1,
   "metadata": {
    "ExecuteTime": {
     "end_time": "2020-08-27T12:41:36.312890Z",
     "start_time": "2020-08-27T12:41:31.842215Z"
    }
   },
   "outputs": [],
   "source": [
    "from utensor_cgen.api.export import tflm_keras_export"
   ]
  },
  {
   "cell_type": "code",
   "execution_count": 2,
   "metadata": {
    "ExecuteTime": {
     "end_time": "2020-08-27T12:41:37.748636Z",
     "start_time": "2020-08-27T12:41:37.713586Z"
    },
    "tags": []
   },
   "outputs": [
    {
     "name": "stdout",
     "output_type": "stream",
     "text": [
      "TensorFlow Version: 2.1.0\n"
     ]
    }
   ],
   "source": [
    "from __future__ import absolute_import, division, print_function, unicode_literals\n",
    "\n",
    "import tensorflow as tf\n",
    "import numpy as np\n",
    "\n",
    "from tensorflow.keras.layers import Dense, Flatten, Conv2D, MaxPooling2D\n",
    "from tensorflow.keras import Model\n",
    "\n",
    "tf.keras.backend.clear_session()\n",
    "print(\"TensorFlow Version: \" + tf.__version__)"
   ]
  },
  {
   "cell_type": "markdown",
   "metadata": {},
   "source": [
    "## Load and prepare the [MNIST dataset](http://yann.lecun.com/exdb/mnist/)\n",
    "\n",
    "[tf.keras.datasets.mnist](https://www.tensorflow.org/api_docs/python/tf/keras/datasets/mnist/load_data) returns: ***Tuple of Numpy arrays: (x_train, y_train), (x_test, y_test).***"
   ]
  },
  {
   "cell_type": "code",
   "execution_count": 3,
   "metadata": {
    "ExecuteTime": {
     "end_time": "2020-08-27T12:41:42.661682Z",
     "start_time": "2020-08-27T12:41:42.146260Z"
    }
   },
   "outputs": [],
   "source": [
    "mnist = tf.keras.datasets.mnist\n",
    "\n",
    "(x_train, y_train), (x_test, y_test) = mnist.load_data()\n",
    "x_train, x_test = x_train / 255.0, x_test / 255.0\n",
    "\n",
    "# Add a channels dimension\n",
    "x_train = x_train[..., tf.newaxis]\n",
    "x_test = x_test[..., tf.newaxis]"
   ]
  },
  {
   "cell_type": "code",
   "execution_count": 4,
   "metadata": {},
   "outputs": [],
   "source": [
    "# Shuffling the dataset and forming batches\n",
    "train_ds = tf.data.Dataset.from_tensor_slices(\n",
    "    (x_train, y_train)).shuffle(10000).batch(32)\n",
    "\n",
    "test_ds = tf.data.Dataset.from_tensor_slices((x_test, y_test)).batch(32)"
   ]
  },
  {
   "cell_type": "markdown",
   "metadata": {},
   "source": [
    "## Defining the Model"
   ]
  },
  {
   "cell_type": "code",
   "execution_count": 5,
   "metadata": {},
   "outputs": [],
   "source": [
    "class MyModel(Model):\n",
    "  def __init__(self):\n",
    "    super(MyModel, self).__init__()\n",
    "    self.conv1 = Conv2D(8, 3, activation='relu')\n",
    "    self.pool = MaxPooling2D()\n",
    "    self.flatten = Flatten()\n",
    "    self.d1 = Dense(16, activation='relu')\n",
    "    self.d2 = Dense(10)\n",
    "\n",
    "  def call(self, x):\n",
    "    x0 = self.pool(x)\n",
    "    x1 = self.conv1(x0)\n",
    "    x2 = self.pool(x1)\n",
    "    x3 = self.flatten(x2)\n",
    "    x4 = self.d1(x3)\n",
    "    return self.d2(x4)\n",
    "\n",
    "model = MyModel()"
   ]
  },
  {
   "cell_type": "markdown",
   "metadata": {},
   "source": [
    "## Loss Functions, and Optimisers"
   ]
  },
  {
   "cell_type": "code",
   "execution_count": 6,
   "metadata": {},
   "outputs": [],
   "source": [
    "loss_object = tf.keras.losses.SparseCategoricalCrossentropy(from_logits=True)\n",
    "\n",
    "optimizer = tf.keras.optimizers.Adam()"
   ]
  },
  {
   "cell_type": "code",
   "execution_count": 7,
   "metadata": {},
   "outputs": [],
   "source": [
    "train_loss = tf.keras.metrics.Mean(name='train_loss')\n",
    "train_accuracy = tf.keras.metrics.SparseCategoricalAccuracy(name='train_accuracy')\n",
    "\n",
    "test_loss = tf.keras.metrics.Mean(name='test_loss')\n",
    "test_accuracy = tf.keras.metrics.SparseCategoricalAccuracy(name='test_accuracy')"
   ]
  },
  {
   "cell_type": "markdown",
   "metadata": {},
   "source": [
    "## Defining Training and Testing Steps"
   ]
  },
  {
   "cell_type": "markdown",
   "metadata": {},
   "source": [
    "#### Training Step"
   ]
  },
  {
   "cell_type": "code",
   "execution_count": 8,
   "metadata": {},
   "outputs": [],
   "source": [
    "@tf.function\n",
    "def train_step(images, labels):\n",
    "  with tf.GradientTape() as tape:\n",
    "    # training=True is only needed if there are layers with different\n",
    "    # behavior during training versus inference (e.g. Dropout).\n",
    "    predictions = model(images, training=True)\n",
    "    loss = loss_object(labels, predictions)\n",
    "  gradients = tape.gradient(loss, model.trainable_variables)\n",
    "  optimizer.apply_gradients(zip(gradients, model.trainable_variables))\n",
    "\n",
    "  train_loss(loss)\n",
    "  train_accuracy(labels, predictions)"
   ]
  },
  {
   "cell_type": "markdown",
   "metadata": {},
   "source": [
    "#### Model Test Step"
   ]
  },
  {
   "cell_type": "code",
   "execution_count": 9,
   "metadata": {},
   "outputs": [],
   "source": [
    "@tf.function\n",
    "def test_step(images, labels):\n",
    "  # training=False is only needed if there are layers with different\n",
    "  # behavior during training versus inference (e.g. Dropout).\n",
    "  predictions = model(images, training=False)\n",
    "  t_loss = loss_object(labels, predictions)\n",
    "\n",
    "  test_loss(t_loss)\n",
    "  test_accuracy(labels, predictions)"
   ]
  },
  {
   "cell_type": "markdown",
   "metadata": {},
   "source": [
    "## Training Loop"
   ]
  },
  {
   "cell_type": "code",
   "execution_count": 10,
   "metadata": {},
   "outputs": [
    {
     "name": "stdout",
     "output_type": "stream",
     "text": [
      "WARNING:tensorflow:Layer my_model is casting an input tensor from dtype float64 to the layer's dtype of float32, which is new behavior in TensorFlow 2.  The layer has dtype float32 because it's dtype defaults to floatx.\n",
      "\n",
      "If you intended to run this layer in float32, you can safely ignore this warning. If in doubt, this warning is likely only an issue if you are porting a TensorFlow 1.X model to TensorFlow 2.\n",
      "\n",
      "To change all layers to have dtype float64 by default, call `tf.keras.backend.set_floatx('float64')`. To change just this layer, pass dtype='float64' to the layer constructor. If you are the author of this layer, you can disable autocasting by passing autocast=False to the base Layer constructor.\n",
      "\n",
      "Epoch 1, Loss: 0.4687080681324005, Accuracy: 86.461669921875, Test Loss: 0.20880873501300812, Test Accuracy: 93.45999908447266\n",
      "Epoch 2, Loss: 0.17733371257781982, Accuracy: 94.58666229248047, Test Loss: 0.14247198402881622, Test Accuracy: 95.41000366210938\n",
      "Epoch 3, Loss: 0.13928145170211792, Accuracy: 95.74833679199219, Test Loss: 0.11060388386249542, Test Accuracy: 96.47000122070312\n",
      "Epoch 4, Loss: 0.11995214223861694, Accuracy: 96.35000610351562, Test Loss: 0.1065719872713089, Test Accuracy: 96.72000122070312\n",
      "Epoch 5, Loss: 0.10847263038158417, Accuracy: 96.59666442871094, Test Loss: 0.09286893159151077, Test Accuracy: 97.0\n",
      "Epoch 6, Loss: 0.09883271157741547, Accuracy: 96.92333221435547, Test Loss: 0.09124265611171722, Test Accuracy: 97.05999755859375\n",
      "Epoch 7, Loss: 0.09324213117361069, Accuracy: 97.07833862304688, Test Loss: 0.08577458560466766, Test Accuracy: 97.23999786376953\n",
      "Epoch 8, Loss: 0.08761008083820343, Accuracy: 97.20833587646484, Test Loss: 0.08184792846441269, Test Accuracy: 97.2699966430664\n",
      "Epoch 9, Loss: 0.08410465717315674, Accuracy: 97.35333251953125, Test Loss: 0.0899595394730568, Test Accuracy: 97.0999984741211\n",
      "Epoch 10, Loss: 0.07921929657459259, Accuracy: 97.52999877929688, Test Loss: 0.08560522645711899, Test Accuracy: 97.25\n",
      "Epoch 11, Loss: 0.07577786594629288, Accuracy: 97.625, Test Loss: 0.0782100185751915, Test Accuracy: 97.37999725341797\n",
      "Epoch 12, Loss: 0.0727442055940628, Accuracy: 97.67333221435547, Test Loss: 0.08048249781131744, Test Accuracy: 97.33000183105469\n",
      "Epoch 13, Loss: 0.07069778442382812, Accuracy: 97.75166320800781, Test Loss: 0.08088043332099915, Test Accuracy: 97.27999877929688\n",
      "Epoch 14, Loss: 0.06771998107433319, Accuracy: 97.82333374023438, Test Loss: 0.07387633621692657, Test Accuracy: 97.61000061035156\n",
      "Epoch 15, Loss: 0.06611058861017227, Accuracy: 97.8316650390625, Test Loss: 0.072294682264328, Test Accuracy: 97.56999969482422\n"
     ]
    }
   ],
   "source": [
    "EPOCHS = 15\n",
    "\n",
    "for epoch in range(EPOCHS):\n",
    "  # Reset the metrics at the start of the next epoch\n",
    "  train_loss.reset_states()\n",
    "  train_accuracy.reset_states()\n",
    "  test_loss.reset_states()\n",
    "  test_accuracy.reset_states()\n",
    "\n",
    "  for images, labels in train_ds:\n",
    "    train_step(images, labels)\n",
    "\n",
    "  for test_images, test_labels in test_ds:\n",
    "    test_step(test_images, test_labels)\n",
    "\n",
    "  template = 'Epoch {}, Loss: {}, Accuracy: {}, Test Loss: {}, Test Accuracy: {}'\n",
    "  print(template.format(epoch+1,\n",
    "                        train_loss.result(),\n",
    "                        train_accuracy.result()*100,\n",
    "                        test_loss.result(),\n",
    "                        test_accuracy.result()*100))"
   ]
  },
  {
   "cell_type": "markdown",
   "metadata": {},
   "source": [
    "## Exporting to uTensor"
   ]
  },
  {
   "cell_type": "markdown",
   "metadata": {},
   "source": [
    "A sample generator for the offline-quantizer to estimate the optimal quantization ranges for all activations."
   ]
  },
  {
   "cell_type": "code",
   "execution_count": 11,
   "metadata": {},
   "outputs": [],
   "source": [
    "# representative data function\n",
    "num_calibration_steps = 128\n",
    "calibration_dtype = tf.float32\n",
    "\n",
    "def representative_dataset_gen():\n",
    "    for _ in range(num_calibration_steps):\n",
    "        rand_idx = np.random.randint(0, x_test.shape[0]-1)\n",
    "        sample = x_test[rand_idx]\n",
    "        sample = sample[tf.newaxis, ...]\n",
    "        sample = tf.cast(sample, dtype=calibration_dtype)\n",
    "        yield [sample]"
   ]
  },
  {
   "cell_type": "markdown",
   "metadata": {},
   "source": [
    "One-liner uTensor export API"
   ]
  },
  {
   "cell_type": "code",
   "execution_count": 12,
   "metadata": {},
   "outputs": [
    {
     "name": "stdout",
     "output_type": "stream",
     "text": [
      "WARNING:tensorflow:From /Users/neiltan/.pyvenv/ut_dev/lib/python3.6/site-packages/tensorflow_core/python/ops/resource_variable_ops.py:1786: calling BaseResourceVariable.__init__ (from tensorflow.python.ops.resource_variable_ops) with constraint is deprecated and will be removed in a future version.\n",
      "Instructions for updating:\n",
      "If using Keras pass *_constraint arguments to layers.\n",
      "INFO:tensorflow:Assets written to: /var/folders/9x/bvz7kpds5c99st2593g_w9hm0000gn/T/utensor_erb1n8ng/saved_model/assets\n",
      "[WARNING base.py __attrs_post_init__ @ 300] cannot convert new_shape to generic value: [1, 288](<class 'list'>)\n",
      "[WARNING quantize.py <module> @ 12] trying to import deprecated quantization transformer\n",
      "[INFO transformer.py transform @ 23] Transforming graph: my_model\n",
      "[INFO transformer.py transform @ 24] Transform pipeline: dropout(name_pattern=r'(dropout[_\\w\\d]*)/.*') -> linear_reorder -> inline -> biasAdd -> remove_id_op -> fake_gather_v2 -> refcnt\n",
      "[WARNING base.py __attrs_post_init__ @ 300] cannot convert new_shape to generic value: [1, 288](<class 'list'>)\n",
      "[WARNING base.py __attrs_post_init__ @ 300] cannot convert new_shape to generic value: [1, 288](<class 'list'>)\n",
      "[WARNING base.py __attrs_post_init__ @ 300] cannot convert new_shape to generic value: [1, 288](<class 'list'>)\n",
      "[WARNING base.py __attrs_post_init__ @ 300] cannot convert new_shape to generic value: [1, 288](<class 'list'>)\n",
      "[WARNING ns_transformer.py transform @ 243] enabling fake_gather_v2 will force replacing GatherV2 with Gather\n",
      "[WARNING base.py __attrs_post_init__ @ 300] cannot convert new_shape to generic value: [1, 288](<class 'list'>)\n",
      "[WARNING base.py __attrs_post_init__ @ 300] cannot convert new_shape to generic value: [1, 288](<class 'list'>)\n",
      "[INFO transformer.py transform @ 31] Graph transormation done\n",
      "[INFO generic_graph_lower.py apply @ 56] topo ordered tensor life span analysis done\n",
      "[INFO utils.py wrapped @ 469] collapsed time of calling apply: 0.0018 seconds\n",
      "[INFO generic_graph_lower.py _solve_space_alloc @ 204] optimal tensor allocation plan solved, total memory required: 1440 bytes\n",
      "[INFO generic_graph_lower.py _solve_space_alloc @ 205] number of tensors allocated: 8\n",
      "[INFO utils.py wrapped @ 469] collapsed time of calling _solve_space_alloc: 0.0201 seconds\n",
      "[INFO _code_generator.py _time_slot_generate_files @ 248] model parameters header file generated: constants/my_model/params_my_model.hpp\n",
      "[INFO _code_generator.py _time_slot_generate_files @ 268] model header file generated: models/my_model/my_model.hpp\n",
      "[INFO _code_generator.py _time_slot_generate_files @ 287] model cpp file generated: models/my_model/my_model.cpp\n"
     ]
    }
   ],
   "source": [
    "tflm_keras_export(\n",
    "    model,\n",
    "    representive_dataset=representative_dataset_gen,\n",
    "    model_name='my_model',\n",
    "    target='utensor',\n",
    ")"
   ]
  },
  {
   "cell_type": "code",
   "execution_count": 13,
   "metadata": {},
   "outputs": [
    {
     "name": "stdout",
     "output_type": "stream",
     "text": [
      "/Users/neiltan/code/ut/utensor-helloworld\r\n"
     ]
    }
   ],
   "source": [
    "!pwd"
   ]
  }
 ],
 "metadata": {
  "kernelspec": {
   "display_name": "Python 3",
   "language": "python",
   "name": "python3"
  },
  "language_info": {
   "codemirror_mode": {
    "name": "ipython",
    "version": 3
   },
   "file_extension": ".py",
   "mimetype": "text/x-python",
   "name": "python",
   "nbconvert_exporter": "python",
   "pygments_lexer": "ipython3",
   "version": "3.7.2"
  },
  "toc": {
   "base_numbering": 1,
   "nav_menu": {},
   "number_sections": true,
   "sideBar": true,
   "skip_h1_title": false,
   "title_cell": "Table of Contents",
   "title_sidebar": "Contents",
   "toc_cell": false,
   "toc_position": {},
   "toc_section_display": true,
   "toc_window_display": false
  }
 },
 "nbformat": 4,
 "nbformat_minor": 2
}
